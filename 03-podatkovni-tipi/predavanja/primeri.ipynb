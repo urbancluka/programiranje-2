{
 "cells": [
  {
   "cell_type": "markdown",
   "metadata": {},
   "source": [
    "# Podatkovni tipi"
   ]
  },
  {
   "cell_type": "code",
   "execution_count": null,
   "metadata": {},
   "outputs": [],
   "source": [
    "enum Ocena {\n",
    "  // Zadostno6,\n",
    "  // Dobro7,\n",
    "  // PravDobro8,\n",
    "  // PravDobro9,\n",
    "  // Odlicno10,\n",
    "  Pozitivno(u8),\n",
    "  Nezadostno,\n",
    "  NiPristopil,\n",
    "  SuperVisokaOcena(u128),\n",
    "}\n",
    "\n",
    "impl Ocena {\n",
    "  fn v_vrednost(&self) -> Option<u8> {\n",
    "    match self {\n",
    "      Ocena::Zadostno6 => Some(6),\n",
    "      Ocena::Dobro7 => Some(7),\n",
    "      Ocena::PravDobro8 => Some(8),\n",
    "      Ocena::PravDobro9 => Some(9),\n",
    "      Ocena::Odlicno10 => Some(10),\n",
    "      _ => None\n",
    "    }\n",
    "  }\n",
    "}\n",
    "\n",
    "\n",
    "struct Student {\n",
    "  ime: String,\n",
    "  priimek: String,\n",
    "  vpisna: u32,\n",
    "  ocene: Vec<(String, Ocena)>\n",
    "}"
   ]
  },
  {
   "cell_type": "code",
   "execution_count": null,
   "metadata": {},
   "outputs": [],
   "source": [
    "let matija = Student {\n",
    "  ime: String::from(\"Matija\"),\n",
    "  priimek: String::from(\"Pretnar\"),\n",
    "  vpisna: 27004498,\n",
    "  ocene: vec![(String::from(\"Programiranje 1\"), 9), (String::from(\"Programiranje 2\"), 8)]\n",
    "};"
   ]
  },
  {
   "cell_type": "code",
   "execution_count": 4,
   "metadata": {},
   "outputs": [],
   "source": [
    "fn povprecje(student: &Student) -> f32 {\n",
    "  10.0\n",
    "}"
   ]
  },
  {
   "cell_type": "code",
   "execution_count": 5,
   "metadata": {},
   "outputs": [],
   "source": [
    "impl Student {\n",
    "  fn povprecje(&self) -> f32 {\n",
    "    let mut vsota = 0;\n",
    "    let mut dolzina = 0;\n",
    "    for (_, ocena) in self.ocene.iter() {\n",
    "      match ocena.v_vrednost() {\n",
    "        Some(v) => {\n",
    "          vsota += v;\n",
    "          dolzina += 1;          \n",
    "        }\n",
    "        None => {}\n",
    "      }\n",
    "    }\n",
    "    (vsota as f32) / (dolzina as f32)\n",
    "  }\n",
    "}"
   ]
  },
  {
   "cell_type": "code",
   "execution_count": 8,
   "metadata": {},
   "outputs": [
    {
     "data": {
      "text/plain": [
       "10.0"
      ]
     },
     "execution_count": 8,
     "metadata": {},
     "output_type": "execute_result"
    }
   ],
   "source": [
    "povprecje(&matija)"
   ]
  },
  {
   "cell_type": "code",
   "execution_count": 10,
   "metadata": {},
   "outputs": [
    {
     "data": {
      "text/plain": [
       "8.5"
      ]
     },
     "execution_count": 10,
     "metadata": {},
     "output_type": "execute_result"
    }
   ],
   "source": [
    "matija.povprecje()"
   ]
  }
 ],
 "metadata": {
  "kernelspec": {
   "display_name": "Rust",
   "language": "rust",
   "name": "rust"
  },
  "language_info": {
   "codemirror_mode": "rust",
   "file_extension": ".rs",
   "mimetype": "text/rust",
   "name": "rust",
   "pygment_lexer": "rust",
   "version": ""
  }
 },
 "nbformat": 4,
 "nbformat_minor": 2
}
